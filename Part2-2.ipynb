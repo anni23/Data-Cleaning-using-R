{
 "cells": [
  {
   "cell_type": "markdown",
   "metadata": {},
   "source": [
    "Reading players.csv and teams.csv to answer the questions."
   ]
  },
  {
   "cell_type": "code",
   "execution_count": 13,
   "metadata": {
    "collapsed": true
   },
   "outputs": [],
   "source": [
    "playerdf=read.csv('players.csv')"
   ]
  },
  {
   "cell_type": "code",
   "execution_count": 14,
   "metadata": {
    "collapsed": true
   },
   "outputs": [],
   "source": [
    "teamdf=read.csv('teams.csv')"
   ]
  },
  {
   "cell_type": "markdown",
   "metadata": {},
   "source": [
    "Which are the top 10 players by number of appearances (with any team they played with)?"
   ]
  },
  {
   "cell_type": "code",
   "execution_count": 15,
   "metadata": {
    "collapsed": false
   },
   "outputs": [
    {
     "data": {
      "text/html": [
       "<table>\n",
       "<thead><tr><th></th><th scope=col>player_name</th><th scope=col>appearances</th></tr></thead>\n",
       "<tbody>\n",
       "\t<tr><th scope=row>2090</th><td>Steve Mandanda      </td><td>300                 </td></tr>\n",
       "\t<tr><th scope=row>4030</th><td>Stephane Ruffier    </td><td>294                 </td></tr>\n",
       "\t<tr><th scope=row>4335</th><td>Samir Handanovic    </td><td>286                 </td></tr>\n",
       "\t<tr><th scope=row>2483</th><td>Gorka Iraizoz Moreno</td><td>286                 </td></tr>\n",
       "\t<tr><th scope=row>2118</th><td>Tim Howard          </td><td>282                 </td></tr>\n",
       "\t<tr><th scope=row>1237</th><td>Hugo Lloris         </td><td>282                 </td></tr>\n",
       "\t<tr><th scope=row>2111</th><td>Joe Hart            </td><td>275                 </td></tr>\n",
       "\t<tr><th scope=row>1178</th><td>Cedric Carrasso     </td><td>268                 </td></tr>\n",
       "\t<tr><th scope=row>1290</th><td>Daniel Congre       </td><td>262                 </td></tr>\n",
       "\t<tr><th scope=row>5450</th><td>Moussa Sissoko      </td><td>260                 </td></tr>\n",
       "</tbody>\n",
       "</table>\n"
      ],
      "text/latex": [
       "\\begin{tabular}{r|ll}\n",
       "  & player\\_name & appearances\\\\\n",
       "\\hline\n",
       "\t2090 & Steve Mandanda       & 300                 \\\\\n",
       "\t4030 & Stephane Ruffier     & 294                 \\\\\n",
       "\t4335 & Samir Handanovic     & 286                 \\\\\n",
       "\t2483 & Gorka Iraizoz Moreno & 286                 \\\\\n",
       "\t2118 & Tim Howard           & 282                 \\\\\n",
       "\t1237 & Hugo Lloris          & 282                 \\\\\n",
       "\t2111 & Joe Hart             & 275                 \\\\\n",
       "\t1178 & Cedric Carrasso      & 268                 \\\\\n",
       "\t1290 & Daniel Congre        & 262                 \\\\\n",
       "\t5450 & Moussa Sissoko       & 260                 \\\\\n",
       "\\end{tabular}\n"
      ],
      "text/markdown": [
       "\n",
       "| <!--/--> | player_name | appearances | \n",
       "|---|---|---|---|---|---|---|---|---|---|\n",
       "| 2090 | Steve Mandanda       | 300                  | \n",
       "| 4030 | Stephane Ruffier     | 294                  | \n",
       "| 4335 | Samir Handanovic     | 286                  | \n",
       "| 2483 | Gorka Iraizoz Moreno | 286                  | \n",
       "| 2118 | Tim Howard           | 282                  | \n",
       "| 1237 | Hugo Lloris          | 282                  | \n",
       "| 2111 | Joe Hart             | 275                  | \n",
       "| 1178 | Cedric Carrasso      | 268                  | \n",
       "| 1290 | Daniel Congre        | 262                  | \n",
       "| 5450 | Moussa Sissoko       | 260                  | \n",
       "\n",
       "\n"
      ],
      "text/plain": [
       "     player_name          appearances\n",
       "2090 Steve Mandanda       300        \n",
       "4030 Stephane Ruffier     294        \n",
       "4335 Samir Handanovic     286        \n",
       "2483 Gorka Iraizoz Moreno 286        \n",
       "2118 Tim Howard           282        \n",
       "1237 Hugo Lloris          282        \n",
       "2111 Joe Hart             275        \n",
       "1178 Cedric Carrasso      268        \n",
       "1290 Daniel Congre        262        \n",
       "5450 Moussa Sissoko       260        "
      ]
     },
     "metadata": {},
     "output_type": "display_data"
    }
   ],
   "source": [
    "playerdf[rev(order(playerdf$appearances)),][1:10,c('player_name','appearances')]"
   ]
  },
  {
   "cell_type": "markdown",
   "metadata": {},
   "source": [
    "Which are the top 10 goalkeepers by sum of gk attributes?"
   ]
  },
  {
   "cell_type": "code",
   "execution_count": 16,
   "metadata": {
    "collapsed": false
   },
   "outputs": [
    {
     "data": {
      "text/html": [
       "<table>\n",
       "<thead><tr><th></th><th scope=col>player_name</th><th scope=col>gk_sum</th></tr></thead>\n",
       "<tbody>\n",
       "\t<tr><th scope=row>1891</th><td>Gianluigi Buffon </td><td>449              </td></tr>\n",
       "\t<tr><th scope=row>3796</th><td>Gregory Coupet   </td><td>447              </td></tr>\n",
       "\t<tr><th scope=row>1959</th><td>Petr Cech        </td><td>445              </td></tr>\n",
       "\t<tr><th scope=row>1847</th><td>Iker Casillas    </td><td>442              </td></tr>\n",
       "\t<tr><th scope=row>1496</th><td>Manuel Neuer     </td><td>440              </td></tr>\n",
       "\t<tr><th scope=row>2044</th><td>Julio Cesar      </td><td>438              </td></tr>\n",
       "\t<tr><th scope=row>835</th><td>Sebastian Frey   </td><td>437              </td></tr>\n",
       "\t<tr><th scope=row>1898</th><td>Edwin van der Sar</td><td>436              </td></tr>\n",
       "\t<tr><th scope=row>7550</th><td>David De Gea     </td><td>429              </td></tr>\n",
       "\t<tr><th scope=row>1827</th><td>Paul Robinson    </td><td>426              </td></tr>\n",
       "</tbody>\n",
       "</table>\n"
      ],
      "text/latex": [
       "\\begin{tabular}{r|ll}\n",
       "  & player\\_name & gk\\_sum\\\\\n",
       "\\hline\n",
       "\t1891 & Gianluigi Buffon  & 449              \\\\\n",
       "\t3796 & Gregory Coupet    & 447              \\\\\n",
       "\t1959 & Petr Cech         & 445              \\\\\n",
       "\t1847 & Iker Casillas     & 442              \\\\\n",
       "\t1496 & Manuel Neuer      & 440              \\\\\n",
       "\t2044 & Julio Cesar       & 438              \\\\\n",
       "\t835 & Sebastian Frey    & 437              \\\\\n",
       "\t1898 & Edwin van der Sar & 436              \\\\\n",
       "\t7550 & David De Gea      & 429              \\\\\n",
       "\t1827 & Paul Robinson     & 426              \\\\\n",
       "\\end{tabular}\n"
      ],
      "text/markdown": [
       "\n",
       "| <!--/--> | player_name | gk_sum | \n",
       "|---|---|---|---|---|---|---|---|---|---|\n",
       "| 1891 | Gianluigi Buffon  | 449               | \n",
       "| 3796 | Gregory Coupet    | 447               | \n",
       "| 1959 | Petr Cech         | 445               | \n",
       "| 1847 | Iker Casillas     | 442               | \n",
       "| 1496 | Manuel Neuer      | 440               | \n",
       "| 2044 | Julio Cesar       | 438               | \n",
       "| 835 | Sebastian Frey    | 437               | \n",
       "| 1898 | Edwin van der Sar | 436               | \n",
       "| 7550 | David De Gea      | 429               | \n",
       "| 1827 | Paul Robinson     | 426               | \n",
       "\n",
       "\n"
      ],
      "text/plain": [
       "     player_name       gk_sum\n",
       "1891 Gianluigi Buffon  449   \n",
       "3796 Gregory Coupet    447   \n",
       "1959 Petr Cech         445   \n",
       "1847 Iker Casillas     442   \n",
       "1496 Manuel Neuer      440   \n",
       "2044 Julio Cesar       438   \n",
       "835  Sebastian Frey    437   \n",
       "1898 Edwin van der Sar 436   \n",
       "7550 David De Gea      429   \n",
       "1827 Paul Robinson     426   "
      ]
     },
     "metadata": {},
     "output_type": "display_data"
    }
   ],
   "source": [
    "playerdf[rev(order(playerdf$gk_sum)),][1:10,c('player_name','gk_sum')]"
   ]
  },
  {
   "cell_type": "markdown",
   "metadata": {},
   "source": [
    "Which are the top 10 players by overall rating?"
   ]
  },
  {
   "cell_type": "code",
   "execution_count": 17,
   "metadata": {
    "collapsed": false
   },
   "outputs": [
    {
     "data": {
      "text/html": [
       "<table>\n",
       "<thead><tr><th></th><th scope=col>player_name</th><th scope=col>overall_rating</th></tr></thead>\n",
       "<tbody>\n",
       "\t<tr><th scope=row>2039</th><td>Lionel Messi     </td><td>94               </td></tr>\n",
       "\t<tr><th scope=row>1980</th><td>Cristiano Ronaldo</td><td>93               </td></tr>\n",
       "\t<tr><th scope=row>1937</th><td>Wayne Rooney     </td><td>93               </td></tr>\n",
       "\t<tr><th scope=row>1891</th><td>Gianluigi Buffon </td><td>93               </td></tr>\n",
       "\t<tr><th scope=row>3796</th><td>Gregory Coupet   </td><td>92               </td></tr>\n",
       "\t<tr><th scope=row>3770</th><td>Xavi Hernandez   </td><td>92               </td></tr>\n",
       "\t<tr><th scope=row>2665</th><td>Fabio Cannavaro  </td><td>91               </td></tr>\n",
       "\t<tr><th scope=row>2022</th><td>Andres Iniesta   </td><td>91               </td></tr>\n",
       "\t<tr><th scope=row>1912</th><td>Ronaldinho       </td><td>91               </td></tr>\n",
       "\t<tr><th scope=row>1895</th><td>Alessandro Nesta </td><td>91               </td></tr>\n",
       "</tbody>\n",
       "</table>\n"
      ],
      "text/latex": [
       "\\begin{tabular}{r|ll}\n",
       "  & player\\_name & overall\\_rating\\\\\n",
       "\\hline\n",
       "\t2039 & Lionel Messi      & 94               \\\\\n",
       "\t1980 & Cristiano Ronaldo & 93               \\\\\n",
       "\t1937 & Wayne Rooney      & 93               \\\\\n",
       "\t1891 & Gianluigi Buffon  & 93               \\\\\n",
       "\t3796 & Gregory Coupet    & 92               \\\\\n",
       "\t3770 & Xavi Hernandez    & 92               \\\\\n",
       "\t2665 & Fabio Cannavaro   & 91               \\\\\n",
       "\t2022 & Andres Iniesta    & 91               \\\\\n",
       "\t1912 & Ronaldinho        & 91               \\\\\n",
       "\t1895 & Alessandro Nesta  & 91               \\\\\n",
       "\\end{tabular}\n"
      ],
      "text/markdown": [
       "\n",
       "| <!--/--> | player_name | overall_rating | \n",
       "|---|---|---|---|---|---|---|---|---|---|\n",
       "| 2039 | Lionel Messi      | 94                | \n",
       "| 1980 | Cristiano Ronaldo | 93                | \n",
       "| 1937 | Wayne Rooney      | 93                | \n",
       "| 1891 | Gianluigi Buffon  | 93                | \n",
       "| 3796 | Gregory Coupet    | 92                | \n",
       "| 3770 | Xavi Hernandez    | 92                | \n",
       "| 2665 | Fabio Cannavaro   | 91                | \n",
       "| 2022 | Andres Iniesta    | 91                | \n",
       "| 1912 | Ronaldinho        | 91                | \n",
       "| 1895 | Alessandro Nesta  | 91                | \n",
       "\n",
       "\n"
      ],
      "text/plain": [
       "     player_name       overall_rating\n",
       "2039 Lionel Messi      94            \n",
       "1980 Cristiano Ronaldo 93            \n",
       "1937 Wayne Rooney      93            \n",
       "1891 Gianluigi Buffon  93            \n",
       "3796 Gregory Coupet    92            \n",
       "3770 Xavi Hernandez    92            \n",
       "2665 Fabio Cannavaro   91            \n",
       "2022 Andres Iniesta    91            \n",
       "1912 Ronaldinho        91            \n",
       "1895 Alessandro Nesta  91            "
      ]
     },
     "metadata": {},
     "output_type": "display_data"
    }
   ],
   "source": [
    "playerdf[rev(order(playerdf$overall_rating)),][1:10,c('player_name','overall_rating')]"
   ]
  },
  {
   "cell_type": "markdown",
   "metadata": {},
   "source": [
    "Which are the top 10 players by number of leagues they played in?"
   ]
  },
  {
   "cell_type": "code",
   "execution_count": 18,
   "metadata": {
    "collapsed": false
   },
   "outputs": [
    {
     "data": {
      "text/html": [
       "<table>\n",
       "<thead><tr><th></th><th scope=col>player_name</th><th scope=col>leagues</th></tr></thead>\n",
       "<tbody>\n",
       "\t<tr><th scope=row>4281</th><td>Gelson Fernandes     </td><td>6                    </td></tr>\n",
       "\t<tr><th scope=row>7339</th><td>Filip Djuricic       </td><td>5                    </td></tr>\n",
       "\t<tr><th scope=row>6104</th><td>Ricky van Wolfswinkel</td><td>5                    </td></tr>\n",
       "\t<tr><th scope=row>8588</th><td>Christian Atsu       </td><td>4                    </td></tr>\n",
       "\t<tr><th scope=row>8360</th><td>Jose Campana         </td><td>4                    </td></tr>\n",
       "\t<tr><th scope=row>7594</th><td>Stefan Scepovic      </td><td>4                    </td></tr>\n",
       "\t<tr><th scope=row>7270</th><td>Xherdan Shaqiri      </td><td>4                    </td></tr>\n",
       "\t<tr><th scope=row>7141</th><td>Haris Seferovic      </td><td>4                    </td></tr>\n",
       "\t<tr><th scope=row>6867</th><td>Gael Kakuta          </td><td>4                    </td></tr>\n",
       "\t<tr><th scope=row>6865</th><td>Vladimir Weiss       </td><td>4                    </td></tr>\n",
       "</tbody>\n",
       "</table>\n"
      ],
      "text/latex": [
       "\\begin{tabular}{r|ll}\n",
       "  & player\\_name & leagues\\\\\n",
       "\\hline\n",
       "\t4281 & Gelson Fernandes      & 6                    \\\\\n",
       "\t7339 & Filip Djuricic        & 5                    \\\\\n",
       "\t6104 & Ricky van Wolfswinkel & 5                    \\\\\n",
       "\t8588 & Christian Atsu        & 4                    \\\\\n",
       "\t8360 & Jose Campana          & 4                    \\\\\n",
       "\t7594 & Stefan Scepovic       & 4                    \\\\\n",
       "\t7270 & Xherdan Shaqiri       & 4                    \\\\\n",
       "\t7141 & Haris Seferovic       & 4                    \\\\\n",
       "\t6867 & Gael Kakuta           & 4                    \\\\\n",
       "\t6865 & Vladimir Weiss        & 4                    \\\\\n",
       "\\end{tabular}\n"
      ],
      "text/markdown": [
       "\n",
       "| <!--/--> | player_name | leagues | \n",
       "|---|---|---|---|---|---|---|---|---|---|\n",
       "| 4281 | Gelson Fernandes      | 6                     | \n",
       "| 7339 | Filip Djuricic        | 5                     | \n",
       "| 6104 | Ricky van Wolfswinkel | 5                     | \n",
       "| 8588 | Christian Atsu        | 4                     | \n",
       "| 8360 | Jose Campana          | 4                     | \n",
       "| 7594 | Stefan Scepovic       | 4                     | \n",
       "| 7270 | Xherdan Shaqiri       | 4                     | \n",
       "| 7141 | Haris Seferovic       | 4                     | \n",
       "| 6867 | Gael Kakuta           | 4                     | \n",
       "| 6865 | Vladimir Weiss        | 4                     | \n",
       "\n",
       "\n"
      ],
      "text/plain": [
       "     player_name           leagues\n",
       "4281 Gelson Fernandes      6      \n",
       "7339 Filip Djuricic        5      \n",
       "6104 Ricky van Wolfswinkel 5      \n",
       "8588 Christian Atsu        4      \n",
       "8360 Jose Campana          4      \n",
       "7594 Stefan Scepovic       4      \n",
       "7270 Xherdan Shaqiri       4      \n",
       "7141 Haris Seferovic       4      \n",
       "6867 Gael Kakuta           4      \n",
       "6865 Vladimir Weiss        4      "
      ]
     },
     "metadata": {},
     "output_type": "display_data"
    }
   ],
   "source": [
    "playerdf[rev(order(playerdf$leagues)),][1:10,c('player_name','leagues')]"
   ]
  },
  {
   "cell_type": "markdown",
   "metadata": {},
   "source": [
    "Which are the top 10 teams by number of scored goals?"
   ]
  },
  {
   "cell_type": "code",
   "execution_count": 19,
   "metadata": {
    "collapsed": false
   },
   "outputs": [
    {
     "data": {
      "text/html": [
       "<table>\n",
       "<thead><tr><th></th><th scope=col>team_long_name</th><th scope=col>goals</th></tr></thead>\n",
       "<tbody>\n",
       "\t<tr><th scope=row>135</th><td>FC Barcelona     </td><td>849              </td></tr>\n",
       "\t<tr><th scope=row>134</th><td>Real Madrid CF   </td><td>843              </td></tr>\n",
       "\t<tr><th scope=row>226</th><td>Celtic           </td><td>695              </td></tr>\n",
       "\t<tr><th scope=row>184</th><td>FC Bayern Munich </td><td>653              </td></tr>\n",
       "\t<tr><th scope=row>139</th><td>PSV              </td><td>652              </td></tr>\n",
       "\t<tr><th scope=row>125</th><td>Ajax             </td><td>647              </td></tr>\n",
       "\t<tr><th scope=row>229</th><td>FC Basel         </td><td>619              </td></tr>\n",
       "\t<tr><th scope=row>82</th><td>Manchester City  </td><td>606              </td></tr>\n",
       "\t<tr><th scope=row>81</th><td>Chelsea          </td><td>583              </td></tr>\n",
       "\t<tr><th scope=row>276</th><td>Manchester United</td><td>582              </td></tr>\n",
       "</tbody>\n",
       "</table>\n"
      ],
      "text/latex": [
       "\\begin{tabular}{r|ll}\n",
       "  & team\\_long\\_name & goals\\\\\n",
       "\\hline\n",
       "\t135 & FC Barcelona      & 849              \\\\\n",
       "\t134 & Real Madrid CF    & 843              \\\\\n",
       "\t226 & Celtic            & 695              \\\\\n",
       "\t184 & FC Bayern Munich  & 653              \\\\\n",
       "\t139 & PSV               & 652              \\\\\n",
       "\t125 & Ajax              & 647              \\\\\n",
       "\t229 & FC Basel          & 619              \\\\\n",
       "\t82 & Manchester City   & 606              \\\\\n",
       "\t81 & Chelsea           & 583              \\\\\n",
       "\t276 & Manchester United & 582              \\\\\n",
       "\\end{tabular}\n"
      ],
      "text/markdown": [
       "\n",
       "| <!--/--> | team_long_name | goals | \n",
       "|---|---|---|---|---|---|---|---|---|---|\n",
       "| 135 | FC Barcelona      | 849               | \n",
       "| 134 | Real Madrid CF    | 843               | \n",
       "| 226 | Celtic            | 695               | \n",
       "| 184 | FC Bayern Munich  | 653               | \n",
       "| 139 | PSV               | 652               | \n",
       "| 125 | Ajax              | 647               | \n",
       "| 229 | FC Basel          | 619               | \n",
       "| 82 | Manchester City   | 606               | \n",
       "| 81 | Chelsea           | 583               | \n",
       "| 276 | Manchester United | 582               | \n",
       "\n",
       "\n"
      ],
      "text/plain": [
       "    team_long_name    goals\n",
       "135 FC Barcelona      849  \n",
       "134 Real Madrid CF    843  \n",
       "226 Celtic            695  \n",
       "184 FC Bayern Munich  653  \n",
       "139 PSV               652  \n",
       "125 Ajax              647  \n",
       "229 FC Basel          619  \n",
       "82  Manchester City   606  \n",
       "81  Chelsea           583  \n",
       "276 Manchester United 582  "
      ]
     },
     "metadata": {},
     "output_type": "display_data"
    }
   ],
   "source": [
    "teamdf[rev(order(teamdf$goals)),][1:10,c('team_long_name','goals')]"
   ]
  },
  {
   "cell_type": "markdown",
   "metadata": {},
   "source": [
    "Which are the top 10 teams by sum of defense attributes?"
   ]
  },
  {
   "cell_type": "code",
   "execution_count": 20,
   "metadata": {
    "collapsed": false
   },
   "outputs": [
    {
     "data": {
      "text/html": [
       "<table>\n",
       "<thead><tr><th></th><th scope=col>team_long_name</th><th scope=col>defence_sum</th></tr></thead>\n",
       "<tbody>\n",
       "\t<tr><th scope=row>273</th><td>Montpellier Hérault SC</td><td>210                   </td></tr>\n",
       "\t<tr><th scope=row>250</th><td>Queens Park Rangers   </td><td>210                   </td></tr>\n",
       "\t<tr><th scope=row>248</th><td>Swansea City          </td><td>210                   </td></tr>\n",
       "\t<tr><th scope=row>247</th><td>KVC Westerlo          </td><td>210                   </td></tr>\n",
       "\t<tr><th scope=row>240</th><td>Beerschot AC          </td><td>210                   </td></tr>\n",
       "\t<tr><th scope=row>236</th><td>Sporting Charleroi    </td><td>210                   </td></tr>\n",
       "\t<tr><th scope=row>219</th><td>Hannover 96           </td><td>210                   </td></tr>\n",
       "\t<tr><th scope=row>197</th><td>Stade Rennais FC      </td><td>210                   </td></tr>\n",
       "\t<tr><th scope=row>195</th><td>Paris Saint-Germain   </td><td>210                   </td></tr>\n",
       "\t<tr><th scope=row>191</th><td>OGC Nice              </td><td>210                   </td></tr>\n",
       "</tbody>\n",
       "</table>\n"
      ],
      "text/latex": [
       "\\begin{tabular}{r|ll}\n",
       "  & team\\_long\\_name & defence\\_sum\\\\\n",
       "\\hline\n",
       "\t273 & Montpellier Hérault SC & 210                   \\\\\n",
       "\t250 & Queens Park Rangers    & 210                   \\\\\n",
       "\t248 & Swansea City           & 210                   \\\\\n",
       "\t247 & KVC Westerlo           & 210                   \\\\\n",
       "\t240 & Beerschot AC           & 210                   \\\\\n",
       "\t236 & Sporting Charleroi     & 210                   \\\\\n",
       "\t219 & Hannover 96            & 210                   \\\\\n",
       "\t197 & Stade Rennais FC       & 210                   \\\\\n",
       "\t195 & Paris Saint-Germain    & 210                   \\\\\n",
       "\t191 & OGC Nice               & 210                   \\\\\n",
       "\\end{tabular}\n"
      ],
      "text/markdown": [
       "\n",
       "| <!--/--> | team_long_name | defence_sum | \n",
       "|---|---|---|---|---|---|---|---|---|---|\n",
       "| 273 | Montpellier Hérault SC | 210                    | \n",
       "| 250 | Queens Park Rangers    | 210                    | \n",
       "| 248 | Swansea City           | 210                    | \n",
       "| 247 | KVC Westerlo           | 210                    | \n",
       "| 240 | Beerschot AC           | 210                    | \n",
       "| 236 | Sporting Charleroi     | 210                    | \n",
       "| 219 | Hannover 96            | 210                    | \n",
       "| 197 | Stade Rennais FC       | 210                    | \n",
       "| 195 | Paris Saint-Germain    | 210                    | \n",
       "| 191 | OGC Nice               | 210                    | \n",
       "\n",
       "\n"
      ],
      "text/plain": [
       "    team_long_name         defence_sum\n",
       "273 Montpellier Hérault SC 210        \n",
       "250 Queens Park Rangers    210        \n",
       "248 Swansea City           210        \n",
       "247 KVC Westerlo           210        \n",
       "240 Beerschot AC           210        \n",
       "236 Sporting Charleroi     210        \n",
       "219 Hannover 96            210        \n",
       "197 Stade Rennais FC       210        \n",
       "195 Paris Saint-Germain    210        \n",
       "191 OGC Nice               210        "
      ]
     },
     "metadata": {},
     "output_type": "display_data"
    }
   ],
   "source": [
    "teamdf[rev(order(teamdf$defence_sum)),][1:10,c('team_long_name','defence_sum')]"
   ]
  },
  {
   "cell_type": "markdown",
   "metadata": {},
   "source": [
    "Which are the top 10 teams by sum of build up play attributes?"
   ]
  },
  {
   "cell_type": "code",
   "execution_count": 21,
   "metadata": {
    "collapsed": false
   },
   "outputs": [
    {
     "data": {
      "text/html": [
       "<table>\n",
       "<thead><tr><th></th><th scope=col>team_long_name</th><th scope=col>buildUpPlay_sum</th></tr></thead>\n",
       "<tbody>\n",
       "\t<tr><th scope=row>57</th><td>SV Darmstadt 98     </td><td>179                 </td></tr>\n",
       "\t<tr><th scope=row>286</th><td>FC Arouca           </td><td>174                 </td></tr>\n",
       "\t<tr><th scope=row>74</th><td>SD Eibar            </td><td>165                 </td></tr>\n",
       "\t<tr><th scope=row>118</th><td>KV Oostende         </td><td>155                 </td></tr>\n",
       "\t<tr><th scope=row>132</th><td>Boavista FC         </td><td>153                 </td></tr>\n",
       "\t<tr><th scope=row>288</th><td>Royal Excel Mouscron</td><td>150                 </td></tr>\n",
       "\t<tr><th scope=row>242</th><td>Royal Excel Mouscron</td><td>150                 </td></tr>\n",
       "\t<tr><th scope=row>18</th><td>FC Penafiel         </td><td>147                 </td></tr>\n",
       "\t<tr><th scope=row>37</th><td>Zawisza Bydgoszcz   </td><td>145                 </td></tr>\n",
       "\t<tr><th scope=row>16</th><td>Go Ahead Eagles     </td><td>144                 </td></tr>\n",
       "</tbody>\n",
       "</table>\n"
      ],
      "text/latex": [
       "\\begin{tabular}{r|ll}\n",
       "  & team\\_long\\_name & buildUpPlay\\_sum\\\\\n",
       "\\hline\n",
       "\t57 & SV Darmstadt 98      & 179                 \\\\\n",
       "\t286 & FC Arouca            & 174                 \\\\\n",
       "\t74 & SD Eibar             & 165                 \\\\\n",
       "\t118 & KV Oostende          & 155                 \\\\\n",
       "\t132 & Boavista FC          & 153                 \\\\\n",
       "\t288 & Royal Excel Mouscron & 150                 \\\\\n",
       "\t242 & Royal Excel Mouscron & 150                 \\\\\n",
       "\t18 & FC Penafiel          & 147                 \\\\\n",
       "\t37 & Zawisza Bydgoszcz    & 145                 \\\\\n",
       "\t16 & Go Ahead Eagles      & 144                 \\\\\n",
       "\\end{tabular}\n"
      ],
      "text/markdown": [
       "\n",
       "| <!--/--> | team_long_name | buildUpPlay_sum | \n",
       "|---|---|---|---|---|---|---|---|---|---|\n",
       "| 57 | SV Darmstadt 98      | 179                  | \n",
       "| 286 | FC Arouca            | 174                  | \n",
       "| 74 | SD Eibar             | 165                  | \n",
       "| 118 | KV Oostende          | 155                  | \n",
       "| 132 | Boavista FC          | 153                  | \n",
       "| 288 | Royal Excel Mouscron | 150                  | \n",
       "| 242 | Royal Excel Mouscron | 150                  | \n",
       "| 18 | FC Penafiel          | 147                  | \n",
       "| 37 | Zawisza Bydgoszcz    | 145                  | \n",
       "| 16 | Go Ahead Eagles      | 144                  | \n",
       "\n",
       "\n"
      ],
      "text/plain": [
       "    team_long_name       buildUpPlay_sum\n",
       "57  SV Darmstadt 98      179            \n",
       "286 FC Arouca            174            \n",
       "74  SD Eibar             165            \n",
       "118 KV Oostende          155            \n",
       "132 Boavista FC          153            \n",
       "288 Royal Excel Mouscron 150            \n",
       "242 Royal Excel Mouscron 150            \n",
       "18  FC Penafiel          147            \n",
       "37  Zawisza Bydgoszcz    145            \n",
       "16  Go Ahead Eagles      144            "
      ]
     },
     "metadata": {},
     "output_type": "display_data"
    }
   ],
   "source": [
    "teamdf[rev(order(teamdf$buildUpPlay_sum)),][1:10,c('team_long_name','buildUpPlay_sum')]"
   ]
  },
  {
   "cell_type": "markdown",
   "metadata": {},
   "source": [
    "Which are the top 10 teams by sum of chance creation attributes?"
   ]
  },
  {
   "cell_type": "code",
   "execution_count": 22,
   "metadata": {
    "collapsed": false
   },
   "outputs": [
    {
     "data": {
      "text/html": [
       "<table>\n",
       "<thead><tr><th></th><th scope=col>team_long_name</th><th scope=col>chanceCreation_sum</th></tr></thead>\n",
       "<tbody>\n",
       "\t<tr><th scope=row>250</th><td>Queens Park Rangers    </td><td>210                    </td></tr>\n",
       "\t<tr><th scope=row>248</th><td>Swansea City           </td><td>210                    </td></tr>\n",
       "\t<tr><th scope=row>202</th><td>Heart of Midlothian    </td><td>210                    </td></tr>\n",
       "\t<tr><th scope=row>177</th><td>St. Mirren             </td><td>210                    </td></tr>\n",
       "\t<tr><th scope=row>176</th><td>Reading                </td><td>210                    </td></tr>\n",
       "\t<tr><th scope=row>144</th><td>Birmingham City        </td><td>210                    </td></tr>\n",
       "\t<tr><th scope=row>129</th><td>Wolverhampton Wanderers</td><td>210                    </td></tr>\n",
       "\t<tr><th scope=row>108</th><td>Rangers                </td><td>210                    </td></tr>\n",
       "\t<tr><th scope=row>94</th><td>Aberdeen               </td><td>210                    </td></tr>\n",
       "\t<tr><th scope=row>67</th><td>Cardiff City           </td><td>210                    </td></tr>\n",
       "</tbody>\n",
       "</table>\n"
      ],
      "text/latex": [
       "\\begin{tabular}{r|ll}\n",
       "  & team\\_long\\_name & chanceCreation\\_sum\\\\\n",
       "\\hline\n",
       "\t250 & Queens Park Rangers     & 210                    \\\\\n",
       "\t248 & Swansea City            & 210                    \\\\\n",
       "\t202 & Heart of Midlothian     & 210                    \\\\\n",
       "\t177 & St. Mirren              & 210                    \\\\\n",
       "\t176 & Reading                 & 210                    \\\\\n",
       "\t144 & Birmingham City         & 210                    \\\\\n",
       "\t129 & Wolverhampton Wanderers & 210                    \\\\\n",
       "\t108 & Rangers                 & 210                    \\\\\n",
       "\t94 & Aberdeen                & 210                    \\\\\n",
       "\t67 & Cardiff City            & 210                    \\\\\n",
       "\\end{tabular}\n"
      ],
      "text/markdown": [
       "\n",
       "| <!--/--> | team_long_name | chanceCreation_sum | \n",
       "|---|---|---|---|---|---|---|---|---|---|\n",
       "| 250 | Queens Park Rangers     | 210                     | \n",
       "| 248 | Swansea City            | 210                     | \n",
       "| 202 | Heart of Midlothian     | 210                     | \n",
       "| 177 | St. Mirren              | 210                     | \n",
       "| 176 | Reading                 | 210                     | \n",
       "| 144 | Birmingham City         | 210                     | \n",
       "| 129 | Wolverhampton Wanderers | 210                     | \n",
       "| 108 | Rangers                 | 210                     | \n",
       "| 94 | Aberdeen                | 210                     | \n",
       "| 67 | Cardiff City            | 210                     | \n",
       "\n",
       "\n"
      ],
      "text/plain": [
       "    team_long_name          chanceCreation_sum\n",
       "250 Queens Park Rangers     210               \n",
       "248 Swansea City            210               \n",
       "202 Heart of Midlothian     210               \n",
       "177 St. Mirren              210               \n",
       "176 Reading                 210               \n",
       "144 Birmingham City         210               \n",
       "129 Wolverhampton Wanderers 210               \n",
       "108 Rangers                 210               \n",
       "94  Aberdeen                210               \n",
       "67  Cardiff City            210               "
      ]
     },
     "metadata": {},
     "output_type": "display_data"
    }
   ],
   "source": [
    "teamdf[rev(order(teamdf$chanceCreation_sum)),][1:10,c('team_long_name','chanceCreation_sum')]"
   ]
  },
  {
   "cell_type": "code",
   "execution_count": null,
   "metadata": {
    "collapsed": true
   },
   "outputs": [],
   "source": []
  },
  {
   "cell_type": "code",
   "execution_count": null,
   "metadata": {
    "collapsed": true
   },
   "outputs": [],
   "source": []
  },
  {
   "cell_type": "code",
   "execution_count": null,
   "metadata": {
    "collapsed": true
   },
   "outputs": [],
   "source": []
  },
  {
   "cell_type": "code",
   "execution_count": null,
   "metadata": {
    "collapsed": true
   },
   "outputs": [],
   "source": []
  }
 ],
 "metadata": {
  "kernelspec": {
   "display_name": "R",
   "language": "R",
   "name": "ir"
  },
  "language_info": {
   "codemirror_mode": "r",
   "file_extension": ".r",
   "mimetype": "text/x-r-source",
   "name": "R",
   "pygments_lexer": "r",
   "version": "3.3.2"
  }
 },
 "nbformat": 4,
 "nbformat_minor": 2
}
